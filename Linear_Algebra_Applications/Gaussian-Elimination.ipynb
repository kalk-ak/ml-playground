{
  "cells": [
    {
      "cell_type": "markdown",
      "metadata": {
        "id": "RslrDag6bbNN"
      },
      "source": [
        "# Row Echelon Form and Rank"
      ]
    },
    {
      "cell_type": "code",
      "execution_count": 1,
      "metadata": {
        "id": "MLrLrFg8aVKn"
      },
      "outputs": [],
      "source": [
        "import numpy as np\n",
        "\n",
        "# Initializing matrix for test case a)\n",
        "A1_square = np.array([[1, 0, 1, 0], [0, 0, 0, 0], [0, 0, 3, 1], [0, 0, 3, 0]], dtype=np.float64)\n",
        "\n",
        "# Initializing matrix for test case b)\n",
        "A2_square = np.array([[0, 1, 1], [2, 6, 4], [1, 1, 4]], dtype=np.float64)"
      ]
    },
    {
      "cell_type": "markdown",
      "metadata": {
        "id": "9t1YqR0EbaHQ"
      },
      "source": [
        "**Row echelon form for square matrices by Gaussian elimination**"
      ]
    },
    {
      "cell_type": "code",
      "execution_count": 2,
      "metadata": {
        "id": "oA62GNif8HAM"
      },
      "outputs": [],
      "source": [
        "def GE_square(A, print_flag):\n",
        "    # Create a copy of the matrix to avoid modifying the original input\n",
        "    R = A.copy()\n",
        "    # Get the size (n x n) of the square matrix\n",
        "    n = R.shape[0]\n",
        "    # pvt_list will store the (row, col) indices of the pivots\n",
        "    pvt_list = []\n",
        "    # k is the current pivot column index\n",
        "    k = 0\n",
        "    # Define a small epsilon for floating-point comparisons (to handle near-zero numbers)\n",
        "    eps = np.finfo(np.float32).eps\n",
        "\n",
        "    # Iterate through each row (r is the current pivot row)\n",
        "    for r in range(n):\n",
        "\n",
        "        # --- Find Pivot Column ---\n",
        "        # Find the next non-zero pivot column. \n",
        "        # This loop skips columns that are all-zero from row 'r' downwards.\n",
        "        while k < n and np.allclose(R[r:, k], 0, atol=eps):\n",
        "            k += 1\n",
        "            # If we've run out of columns to check, the matrix is in row echelon form.\n",
        "            if k == n:\n",
        "                if print_flag:\n",
        "                    print(\"Final R is:\")\n",
        "                    print(R)\n",
        "                    print(\"Pivot List is: \", pvt_list)\n",
        "                return R, pvt_list\n",
        "\n",
        "        # --- Partial Pivoting (Row Swap) ---\n",
        "        # Find the row index 'i' (at or below 'r') with the \n",
        "        # largest absolute value in the current pivot column 'k'.\n",
        "        # This is for numerical stability.\n",
        "        i = r + np.argmax(np.abs(R[r:, k]))\n",
        "        # Swap the current row 'r' with the found pivot row 'i'\n",
        "        R[[r, i], :] = R[[i, r], :]\n",
        "        \n",
        "        # Record the pivot's (row, col) index\n",
        "        pvt_list.append([r, k])\n",
        "\n",
        "        # --- Elimination ---\n",
        "        # For every row 'j' below the current pivot row 'r'...\n",
        "        for j in range(r + 1, n):\n",
        "            # ...if the pivot element R[r, k] is not zero...\n",
        "            if np.abs(R[r, k]) > eps:\n",
        "                # ...subtract a multiple of the pivot row 'r' from row 'j'\n",
        "                # to create a zero at R[j, k].\n",
        "                R[j, :] = R[j, :] - ((R[j, k] / R[r, k]) * R[r, :])\n",
        "\n",
        "        if print_flag:\n",
        "            print(\"Current R after elimination:\")\n",
        "            print(R)\n",
        "            print(\"Current pivot list is:\", pvt_list)\n",
        "\n",
        "    if print_flag:\n",
        "        print(\"Final R is:\")\n",
        "        print(R)\n",
        "        print(\"Current pivot list is:\", pvt_list)\n",
        "\n",
        "    return R, pvt_list"
      ]
    },
    {
      "cell_type": "code",
      "execution_count": 3,
      "metadata": {
        "colab": {
          "base_uri": "https://localhost:8080/",
          "height": 0
        },
        "id": "Jd3aDgAIcWhw",
        "outputId": "7af633da-066b-41e5-b1c6-e1b876e1b894"
      },
      "outputs": [
        {
          "name": "stdout",
          "output_type": "stream",
          "text": [
            "Current R after elimination:\n",
            "[[1. 0. 1. 0.]\n",
            " [0. 0. 0. 0.]\n",
            " [0. 0. 3. 1.]\n",
            " [0. 0. 3. 0.]]\n",
            "Current pivot list is: [[0, 0]]\n",
            "Current R after elimination:\n",
            "[[ 1.  0.  1.  0.]\n",
            " [ 0.  0.  3.  1.]\n",
            " [ 0.  0.  0.  0.]\n",
            " [ 0.  0.  0. -1.]]\n",
            "Current pivot list is: [[0, 0], [1, 2]]\n",
            "Current R after elimination:\n",
            "[[ 1.  0.  1.  0.]\n",
            " [ 0.  0.  3.  1.]\n",
            " [ 0.  0.  0. -1.]\n",
            " [ 0.  0.  0.  0.]]\n",
            "Current pivot list is: [[0, 0], [1, 2], [2, 3]]\n",
            "Final R is:\n",
            "[[ 1.  0.  1.  0.]\n",
            " [ 0.  0.  3.  1.]\n",
            " [ 0.  0.  0. -1.]\n",
            " [ 0.  0.  0.  0.]]\n",
            "Pivot List is:  [[0, 0], [1, 2], [2, 3]]\n",
            "\n",
            "row echelon form of A1_square:\n",
            "[[ 1.  0.  1.  0.]\n",
            " [ 0.  0.  3.  1.]\n",
            " [ 0.  0.  0. -1.]\n",
            " [ 0.  0.  0.  0.]]\n",
            "Indices of pivot values:\n",
            "[[0, 0], [1, 2], [2, 3]]\n"
          ]
        }
      ],
      "source": [
        "# Run Gaussian Elimination on A1_square with printing enabled\n",
        "R, pvt_idx_list = GE_square(A1_square, True)\n",
        "\n",
        "# print out the final row echelon form\n",
        "print(\"\\nrow echelon form of A1_square:\")\n",
        "print(R)\n",
        "# print out the indices of pivot values\n",
        "print(\"Indices of pivot values:\")\n",
        "print(pvt_idx_list)"
      ]
    },
    {
      "cell_type": "code",
      "execution_count": 4,
      "metadata": {
        "colab": {
          "base_uri": "https://localhost:8080/",
          "height": 0
        },
        "id": "sNcoOPuCdbGw",
        "outputId": "4c7fbd7d-c402-48ce-eefa-2977452e49b6"
      },
      "outputs": [
        {
          "name": "stdout",
          "output_type": "stream",
          "text": [
            "Current R after elimination:\n",
            "[[ 2.  6.  4.]\n",
            " [ 0.  1.  1.]\n",
            " [ 0. -2.  2.]]\n",
            "Current pivot list is: [[0, 0]]\n",
            "Current R after elimination:\n",
            "[[ 2.  6.  4.]\n",
            " [ 0. -2.  2.]\n",
            " [ 0.  0.  2.]]\n",
            "Current pivot list is: [[0, 0], [1, 1]]\n",
            "Current R after elimination:\n",
            "[[ 2.  6.  4.]\n",
            " [ 0. -2.  2.]\n",
            " [ 0.  0.  2.]]\n",
            "Current pivot list is: [[0, 0], [1, 1], [2, 2]]\n",
            "Final R is:\n",
            "[[ 2.  6.  4.]\n",
            " [ 0. -2.  2.]\n",
            " [ 0.  0.  2.]]\n",
            "Current pivot list is: [[0, 0], [1, 1], [2, 2]]\n",
            "\n",
            "row echelon form of A2_square:\n",
            "[[ 2.  6.  4.]\n",
            " [ 0. -2.  2.]\n",
            " [ 0.  0.  2.]]\n",
            "Indices of pivot values:\n",
            "[[0, 0], [1, 1], [2, 2]]\n"
          ]
        }
      ],
      "source": [
        "# Run Gaussian Elimination on A2_square with printing enabled\n",
        "R, pvt_idx_list = GE_square(A2_square, True)\n",
        "\n",
        "# print out the final row echelon form\n",
        "print(\"\\nrow echelon form of A2_square:\")\n",
        "print(R)\n",
        "# print out the indices of pivot values\n",
        "print(\"Indices of pivot values:\")\n",
        "print(pvt_idx_list)"
      ]
    },
    {
      "cell_type": "markdown",
      "metadata": {
        "id": "k9P0LIzt-Jbj"
      },
      "source": [
        "**Row echelon form for rectangular matrices by Gaussian elimination**"
      ]
    },
    {
      "cell_type": "code",
      "execution_count": 13,
      "metadata": {
        "id": "zoQnq52zzwoB"
      },
      "outputs": [],
      "source": [
        "# Initializing matrix for test case a) in Problem 1.2\n",
        "A1_rect = np.array([[1, 2, 2, -1], [4, 8, 9, 6], [0, 3, 2, 9]], dtype=np.float64)\n",
        "\n",
        "# Initializing matrix for test case b) in Problem 1.2\n",
        "A2_rect = np.array([[1, 2, 3, 1, 2], [0, 4, 6, 0, 1], [2, 4, 8, 0, 0], [0, 1, 2, 0, 9]], dtype=np.float64)"
      ]
    },
    {
      "cell_type": "code",
      "execution_count": 14,
      "metadata": {
        "id": "kzldlDZNSDUl"
      },
      "outputs": [],
      "source": [
        "import numpy as np\n",
        "\n",
        "def GE_rectangular(A, print_flag):\n",
        "    # Create a copy to avoid modifying the original\n",
        "    R = A.copy()\n",
        "    # Get the shape (n rows, m cols)\n",
        "    n, m = R.shape\n",
        "    # pvt_list will store the (row, col) indices of the pivots\n",
        "    pvt_list = []\n",
        "    # k is the current pivot column index\n",
        "    k = 0\n",
        "    # Define a small epsilon for floating-point comparisons\n",
        "    eps = np.finfo(np.float32).eps\n",
        "\n",
        "    # Iterate through each row (r is the current pivot row)\n",
        "    for r in range(n):\n",
        "        \n",
        "        # --- Find Pivot Column ---\n",
        "        # Find the next non-zero pivot column, checking up to 'm' columns.\n",
        "        # This loop skips columns that are all-zero from row 'r' downwards.\n",
        "        while k < m and np.all(np.abs(R[r:, k]) <= eps):\n",
        "            k += 1\n",
        "            # If we've run out of columns, the matrix is in row echelon form.\n",
        "            if k == m:\n",
        "                if print_flag:\n",
        "                    print(\"Final R is:\")\n",
        "                    print(R)\n",
        "                    print(\"Indices of pivot values:\")\n",
        "                    print(pvt_list)\n",
        "                return R, pvt_list\n",
        "\n",
        "        # --- Partial Pivoting (Row Swap) ---\n",
        "        # Find the row index 'i' with the largest absolute value\n",
        "        # in the current pivot column 'k' (for numerical stability).\n",
        "        i = r + np.argmax(np.abs(R[r:, k]))\n",
        "        # Swap the current row 'r' with the found pivot row 'i'\n",
        "        R[[r, i], :] = R[[i, r], :]\n",
        "        \n",
        "        # Record the pivot's (row, col) index\n",
        "        pvt_list.append([r, k])\n",
        "\n",
        "        if print_flag:\n",
        "            print(\"Current R:\")\n",
        "            print(R)\n",
        "            print(\"Indices of pivot values:\")\n",
        "            print(pvt_list)\n",
        "\n",
        "        # --- Elimination ---\n",
        "        # For every row 'j' below the current pivot row 'r'...\n",
        "        for j in range(r + 1, n):\n",
        "            # ...if the pivot element R[r, k] is not zero...\n",
        "            if np.abs(R[r, k]) > eps:\n",
        "                # ...subtract a multiple of the pivot row 'r' from row 'j'\n",
        "                # to create a zero at R[j, k].\n",
        "                R[j, :] -= (R[j, k] / R[r, k]) * R[r, :]\n",
        "\n",
        "        if print_flag:\n",
        "            print(\"Current R after elimination:\")\n",
        "            print(R)\n",
        "            print(\"Indices of pivot values:\")\n",
        "            print(pvt_list)\n",
        "\n",
        "    if print_flag:\n",
        "        print(\"Final R is:\")\n",
        "        print(R)\n",
        "        print(\"Indices of pivot values:\")\n",
        "        print(pvt_list)\n",
        "\n",
        "    return R, pvt_list"
      ]
    },
    {
      "cell_type": "code",
      "execution_count": 15,
      "metadata": {
        "colab": {
          "base_uri": "https://localhost:8080/",
          "height": 0
        },
        "id": "BNl5VvKoVN7U",
        "outputId": "f283a004-11d4-4e7b-914e-fb52c7819c7e"
      },
      "outputs": [
        {
          "name": "stdout",
          "output_type": "stream",
          "text": [
            "Current R:\n",
            "[[ 4.  8.  9.  6.]\n",
            " [ 1.  2.  2. -1.]\n",
            " [ 0.  3.  2.  9.]]\n",
            "Indices of pivot values:\n",
            "[[0, 0]]\n",
            "Current R after elimination:\n",
            "[[ 4.    8.    9.    6.  ]\n",
            " [ 0.    0.   -0.25 -2.5 ]\n",
            " [ 0.    3.    2.    9.  ]]\n",
            "Indices of pivot values:\n",
            "[[0, 0]]\n",
            "Current R:\n",
            "[[ 4.    8.    9.    6.  ]\n",
            " [ 0.    3.    2.    9.  ]\n",
            " [ 0.    0.   -0.25 -2.5 ]]\n",
            "Indices of pivot values:\n",
            "[[0, 0], [1, 1]]\n",
            "Current R after elimination:\n",
            "[[ 4.    8.    9.    6.  ]\n",
            " [ 0.    3.    2.    9.  ]\n",
            " [ 0.    0.   -0.25 -2.5 ]]\n",
            "Indices of pivot values:\n",
            "[[0, 0], [1, 1]]\n",
            "Current R:\n",
            "[[ 4.    8.    9.    6.  ]\n",
            " [ 0.    3.    2.    9.  ]\n",
            " [ 0.    0.   -0.25 -2.5 ]]\n",
            "Indices of pivot values:\n",
            "[[0, 0], [1, 1], [2, 2]]\n",
            "Current R after elimination:\n",
            "[[ 4.    8.    9.    6.  ]\n",
            " [ 0.    3.    2.    9.  ]\n",
            " [ 0.    0.   -0.25 -2.5 ]]\n",
            "Indices of pivot values:\n",
            "[[0, 0], [1, 1], [2, 2]]\n",
            "Final R is:\n",
            "[[ 4.    8.    9.    6.  ]\n",
            " [ 0.    3.    2.    9.  ]\n",
            " [ 0.    0.   -0.25 -2.5 ]]\n",
            "Indices of pivot values:\n",
            "[[0, 0], [1, 1], [2, 2]]\n",
            "\n",
            "row echelon form of A1_rect:\n",
            "[[ 4.    8.    9.    6.  ]\n",
            " [ 0.    3.    2.    9.  ]\n",
            " [ 0.    0.   -0.25 -2.5 ]]\n",
            "Indices of pivot values:\n",
            "[[0, 0], [1, 1], [2, 2]]\n"
          ]
        }
      ],
      "source": [
        "# Run Gaussian Elimination on A1_rect with printing enabled\n",
        "R, pvt_idx_list = GE_rectangular(A1_rect, True)\n",
        "\n",
        "# print out the final row echelon form\n",
        "print(\"\\nrow echelon form of A1_rect:\")\n",
        "print(R)\n",
        "# print out the indices of pivot values\n",
        "print(\"Indices of pivot values:\")\n",
        "print(pvt_idx_list)"
      ]
    },
    {
      "cell_type": "code",
      "execution_count": 16,
      "metadata": {
        "colab": {
          "base_uri": "https://localhost:8080/",
          "height": 0
        },
        "id": "nzJ_hSrQVTDR",
        "outputId": "09f63840-8b8f-47ea-f31c-bbbb3e69d0eb"
      },
      "outputs": [
        {
          "name": "stdout",
          "output_type": "stream",
          "text": [
            "Current R:\n",
            "[[2. 4. 8. 0. 0.]\n",
            " [0. 4. 6. 0. 1.]\n",
            " [1. 2. 3. 1. 2.]\n",
            " [0. 1. 2. 0. 9.]]\n",
            "Indices of pivot values:\n",
            "[[0, 0]]\n",
            "Current R after elimination:\n",
            "[[ 2.  4.  8.  0.  0.]\n",
            " [ 0.  4.  6.  0.  1.]\n",
            " [ 0.  0. -1.  1.  2.]\n",
            " [ 0.  1.  2.  0.  9.]]\n",
            "Indices of pivot values:\n",
            "[[0, 0]]\n",
            "Current R:\n",
            "[[ 2.  4.  8.  0.  0.]\n",
            " [ 0.  4.  6.  0.  1.]\n",
            " [ 0.  0. -1.  1.  2.]\n",
            " [ 0.  1.  2.  0.  9.]]\n",
            "Indices of pivot values:\n",
            "[[0, 0], [1, 1]]\n",
            "Current R after elimination:\n",
            "[[ 2.    4.    8.    0.    0.  ]\n",
            " [ 0.    4.    6.    0.    1.  ]\n",
            " [ 0.    0.   -1.    1.    2.  ]\n",
            " [ 0.    0.    0.5   0.    8.75]]\n",
            "Indices of pivot values:\n",
            "[[0, 0], [1, 1]]\n",
            "Current R:\n",
            "[[ 2.    4.    8.    0.    0.  ]\n",
            " [ 0.    4.    6.    0.    1.  ]\n",
            " [ 0.    0.   -1.    1.    2.  ]\n",
            " [ 0.    0.    0.5   0.    8.75]]\n",
            "Indices of pivot values:\n",
            "[[0, 0], [1, 1], [2, 2]]\n",
            "Current R after elimination:\n",
            "[[ 2.    4.    8.    0.    0.  ]\n",
            " [ 0.    4.    6.    0.    1.  ]\n",
            " [ 0.    0.   -1.    1.    2.  ]\n",
            " [ 0.    0.    0.    0.5   9.75]]\n",
            "Indices of pivot values:\n",
            "[[0, 0], [1, 1], [2, 2]]\n",
            "Current R:\n",
            "[[ 2.    4.    8.    0.    0.  ]\n",
            " [ 0.    4.    6.    0.    1.  ]\n",
            " [ 0.    0.   -1.    1.    2.  ]\n",
            " [ 0.    0.    0.    0.5   9.75]]\n",
            "Indices of pivot values:\n",
            "[[0, 0], [1, 1], [2, 2], [3, 3]]\n",
            "Current R after elimination:\n",
            "[[ 2.    4.    8.    0.    0.  ]\n",
            " [ 0.    4.    6.    0.    1.  ]\n",
            " [ 0.    0.   -1.    1.    2.  ]\n",
            " [ 0.    0.    0.    0.5   9.75]]\n",
            "Indices of pivot values:\n",
            "[[0, 0], [1, 1], [2, 2], [3, 3]]\n",
            "Final R is:\n",
            "[[ 2.    4.    8.    0.    0.  ]\n",
            " [ 0.    4.    6.    0.    1.  ]\n",
            " [ 0.    0.   -1.    1.    2.  ]\n",
            " [ 0.    0.    0.    0.5   9.75]]\n",
            "Indices of pivot values:\n",
            "[[0, 0], [1, 1], [2, 2], [3, 3]]\n",
            "\n",
            "row echelon form of A2_rect:\n",
            "[[ 2.    4.    8.    0.    0.  ]\n",
            " [ 0.    4.    6.    0.    1.  ]\n",
            " [ 0.    0.   -1.    1.    2.  ]\n",
            " [ 0.    0.    0.    0.5   9.75]]\n",
            "Indices of pivot values:\n",
            "[[0, 0], [1, 1], [2, 2], [3, 3]]\n"
          ]
        }
      ],
      "source": [
        "# Run Gaussian Elimination on A2_rect with printing enabled\n",
        "R, pvt_idx_list = GE_rectangular(A2_rect, True)\n",
        "\n",
        "# print out the final row echelon form\n",
        "print(\"\\nrow echelon form of A2_rect:\")\n",
        "print(R)\n",
        "# print out the indices of pivot values\n",
        "print(\"Indices of pivot values:\")\n",
        "print(pvt_idx_list)"
      ]
    },
    {
      "cell_type": "code",
      "execution_count": 17,
      "metadata": {
        "colab": {
          "base_uri": "https://localhost:8080/",
          "height": 0
        },
        "id": "PeTduw2xcFY5",
        "outputId": "3b347ac4-df3a-457f-a3e8-dbe6b8f3280f"
      },
      "outputs": [
        {
          "name": "stdout",
          "output_type": "stream",
          "text": [
            "Current R:\n",
            "[[1. 0. 1. 0.]\n",
            " [0. 0. 0. 0.]\n",
            " [0. 0. 3. 1.]\n",
            " [0. 0. 3. 0.]]\n",
            "Indices of pivot values:\n",
            "[[0, 0]]\n",
            "Current R after elimination:\n",
            "[[1. 0. 1. 0.]\n",
            " [0. 0. 0. 0.]\n",
            " [0. 0. 3. 1.]\n",
            " [0. 0. 3. 0.]]\n",
            "Indices of pivot values:\n",
            "[[0, 0]]\n",
            "Current R:\n",
            "[[1. 0. 1. 0.]\n",
            " [0. 0. 3. 1.]\n",
            " [0. 0. 0. 0.]\n",
            " [0. 0. 3. 0.]]\n",
            "Indices of pivot values:\n",
            "[[0, 0], [1, 2]]\n",
            "Current R after elimination:\n",
            "[[ 1.  0.  1.  0.]\n",
            " [ 0.  0.  3.  1.]\n",
            " [ 0.  0.  0.  0.]\n",
            " [ 0.  0.  0. -1.]]\n",
            "Indices of pivot values:\n",
            "[[0, 0], [1, 2]]\n",
            "Current R:\n",
            "[[ 1.  0.  1.  0.]\n",
            " [ 0.  0.  3.  1.]\n",
            " [ 0.  0.  0. -1.]\n",
            " [ 0.  0.  0.  0.]]\n",
            "Indices of pivot values:\n",
            "[[0, 0], [1, 2], [2, 3]]\n",
            "Current R after elimination:\n",
            "[[ 1.  0.  1.  0.]\n",
            " [ 0.  0.  3.  1.]\n",
            " [ 0.  0.  0. -1.]\n",
            " [ 0.  0.  0.  0.]]\n",
            "Indices of pivot values:\n",
            "[[0, 0], [1, 2], [2, 3]]\n",
            "Final R is:\n",
            "[[ 1.  0.  1.  0.]\n",
            " [ 0.  0.  3.  1.]\n",
            " [ 0.  0.  0. -1.]\n",
            " [ 0.  0.  0.  0.]]\n",
            "Indices of pivot values:\n",
            "[[0, 0], [1, 2], [2, 3]]\n",
            "\n",
            "row echelon form of A1_square:\n",
            "[[ 1.  0.  1.  0.]\n",
            " [ 0.  0.  3.  1.]\n",
            " [ 0.  0.  0. -1.]\n",
            " [ 0.  0.  0.  0.]]\n",
            "Indices of pivot values:\n",
            "[[0, 0], [1, 2], [2, 3]]\n"
          ]
        }
      ],
      "source": [
        "# Test rectangular implementation on A1_square\n",
        "R, pvt_idx_list = GE_rectangular(A1_square, True)\n",
        "print(\"\\nrow echelon form of A1_square:\")\n",
        "print(R)\n",
        "print(\"Indices of pivot values:\")\n",
        "print(pvt_idx_list)"
      ]
    },
    {
      "cell_type": "code",
      "execution_count": 18,
      "metadata": {
        "colab": {
          "base_uri": "https://localhost:8080/",
          "height": 0
        },
        "id": "2wfY1yiFcTR5",
        "outputId": "00d2f854-edb6-4001-9589-034471adf17a"
      },
      "outputs": [
        {
          "name": "stdout",
          "output_type": "stream",
          "text": [
            "Current R:\n",
            "[[2. 6. 4.]\n",
            " [0. 1. 1.]\n",
            " [1. 1. 4.]]\n",
            "Indices of pivot values:\n",
            "[[0, 0]]\n",
            "Current R after elimination:\n",
            "[[ 2.  6.  4.]\n",
            " [ 0.  1.  1.]\n",
            " [ 0. -2.  2.]]\n",
            "Indices of pivot values:\n",
            "[[0, 0]]\n",
            "Current R:\n",
            "[[ 2.  6.  4.]\n",
            " [ 0. -2.  2.]\n",
            " [ 0.  1.  1.]]\n",
            "Indices of pivot values:\n",
            "[[0, 0], [1, 1]]\n",
            "Current R after elimination:\n",
            "[[ 2.  6.  4.]\n",
            " [ 0. -2.  2.]\n",
            " [ 0.  0.  2.]]\n",
            "Indices of pivot values:\n",
            "[[0, 0], [1, 1]]\n",
            "Current R:\n",
            "[[ 2.  6.  4.]\n",
            " [ 0. -2.  2.]\n",
            " [ 0.  0.  2.]]\n",
            "Indices of pivot values:\n",
            "[[0, 0], [1, 1], [2, 2]]\n",
            "Current R after elimination:\n",
            "[[ 2.  6.  4.]\n",
            " [ 0. -2.  2.]\n",
            " [ 0.  0.  2.]]\n",
            "Indices of pivot values:\n",
            "[[0, 0], [1, 1], [2, 2]]\n",
            "Final R is:\n",
            "[[ 2.  6.  4.]\n",
            " [ 0. -2.  2.]\n",
            " [ 0.  0.  2.]]\n",
            "Indices of pivot values:\n",
            "[[0, 0], [1, 1], [2, 2]]\n",
            "\n",
            "row echelon form of A2_square:\n",
            "[[ 2.  6.  4.]\n",
            " [ 0. -2.  2.]\n",
            " [ 0.  0.  2.]]\n",
            "Indices of pivot values:\n",
            "[[0, 0], [1, 1], [2, 2]]\n"
          ]
        }
      ],
      "source": [
        "# Test rectangular implementation on A2_square\n",
        "R, pvt_idx_list = GE_rectangular(A2_square, True)\n",
        "print(\"\\nrow echelon form of A2_square:\")\n",
        "print(R)\n",
        "print(\"Indices of pivot values:\")\n",
        "print(pvt_idx_list)"
      ]
    },
    {
      "cell_type": "markdown",
      "metadata": {
        "id": "fjz2YBq-fUgA"
      },
      "source": [
        "**Matrix rank and number of pivots**"
      ]
    },
    {
      "cell_type": "code",
      "execution_count": 19,
      "metadata": {
        "colab": {
          "base_uri": "https://localhost:8080/",
          "height": 0
        },
        "id": "3EGgNp66jA8u",
        "outputId": "74e68bab-cc99-453d-9cf2-ff442adbc281"
      },
      "outputs": [
        {
          "name": "stdout",
          "output_type": "stream",
          "text": [
            "--- Matrix X ---\n",
            "Current R:\n",
            "[[ 4.  8. 16.  4.]\n",
            " [ 3.  6. 12.  3.]\n",
            " [ 1.  2.  4.  1.]]\n",
            "Indices of pivot values:\n",
            "[[0, 0]]\n",
            "Current R after elimination:\n",
            "[[ 4.  8. 16.  4.]\n",
            " [ 0.  0.  0.  0.]\n",
            " [ 0.  0.  0.  0.]]\n",
            "Indices of pivot values:\n",
            "[[0, 0]]\n",
            "Final R is:\n",
            "[[ 4.  8. 16.  4.]\n",
            " [ 0.  0.  0.  0.]\n",
            " [ 0.  0.  0.  0.]]\n",
            "Indices of pivot values:\n",
            "[[0, 0]]\n",
            "\n",
            "--- Matrix Y ---\n",
            "Current R:\n",
            "[[ 4.  8. 16.  6.]\n",
            " [ 3.  6. 12.  3.]\n",
            " [ 1.  2.  4.  1.]]\n",
            "Indices of pivot values:\n",
            "[[0, 0]]\n",
            "Current R after elimination:\n",
            "[[ 4.   8.  16.   6. ]\n",
            " [ 0.   0.   0.  -1.5]\n",
            " [ 0.   0.   0.  -0.5]]\n",
            "Indices of pivot values:\n",
            "[[0, 0]]\n",
            "Current R:\n",
            "[[ 4.   8.  16.   6. ]\n",
            " [ 0.   0.   0.  -1.5]\n",
            " [ 0.   0.   0.  -0.5]]\n",
            "Indices of pivot values:\n",
            "[[0, 0], [1, 3]]\n",
            "Current R after elimination:\n",
            "[[ 4.   8.  16.   6. ]\n",
            " [ 0.   0.   0.  -1.5]\n",
            " [ 0.   0.   0.   0. ]]\n",
            "Indices of pivot values:\n",
            "[[0, 0], [1, 3]]\n",
            "Final R is:\n",
            "[[ 4.   8.  16.   6. ]\n",
            " [ 0.   0.   0.  -1.5]\n",
            " [ 0.   0.   0.   0. ]]\n",
            "Indices of pivot values:\n",
            "[[0, 0], [1, 3]]\n",
            "\n",
            "--- Matrix Z ---\n",
            "Current R:\n",
            "[[ 4.  8. 16.  6.]\n",
            " [ 3.  5. 12.  3.]\n",
            " [ 1.  2.  4.  1.]]\n",
            "Indices of pivot values:\n",
            "[[0, 0]]\n",
            "Current R after elimination:\n",
            "[[ 4.   8.  16.   6. ]\n",
            " [ 0.  -1.   0.  -1.5]\n",
            " [ 0.   0.   0.  -0.5]]\n",
            "Indices of pivot values:\n",
            "[[0, 0]]\n",
            "Current R:\n",
            "[[ 4.   8.  16.   6. ]\n",
            " [ 0.  -1.   0.  -1.5]\n",
            " [ 0.   0.   0.  -0.5]]\n",
            "Indices of pivot values:\n",
            "[[0, 0], [1, 1]]\n",
            "Current R after elimination:\n",
            "[[ 4.   8.  16.   6. ]\n",
            " [ 0.  -1.   0.  -1.5]\n",
            " [ 0.   0.   0.  -0.5]]\n",
            "Indices of pivot values:\n",
            "[[0, 0], [1, 1]]\n",
            "Current R:\n",
            "[[ 4.   8.  16.   6. ]\n",
            " [ 0.  -1.   0.  -1.5]\n",
            " [ 0.   0.   0.  -0.5]]\n",
            "Indices of pivot values:\n",
            "[[0, 0], [1, 1], [2, 3]]\n",
            "Current R after elimination:\n",
            "[[ 4.   8.  16.   6. ]\n",
            " [ 0.  -1.   0.  -1.5]\n",
            " [ 0.   0.   0.  -0.5]]\n",
            "Indices of pivot values:\n",
            "[[0, 0], [1, 1], [2, 3]]\n",
            "Final R is:\n",
            "[[ 4.   8.  16.   6. ]\n",
            " [ 0.  -1.   0.  -1.5]\n",
            " [ 0.   0.   0.  -0.5]]\n",
            "Indices of pivot values:\n",
            "[[0, 0], [1, 1], [2, 3]]\n"
          ]
        }
      ],
      "source": [
        "# Define matrices X, Y, and Z\n",
        "X = np.array([[1, 2, 4, 1], [3, 6, 12, 3], [4, 8, 16, 4]], dtype=np.float64)\n",
        "Y = np.array([[1, 2, 4, 1], [3, 6, 12, 3], [4, 8, 16, 6]], dtype=np.float64)\n",
        "Z = np.array([[1, 2, 4, 1], [3, 5, 12, 3], [4, 8, 16, 6]], dtype=np.float64)\n",
        "\n",
        "# Use GE_rectangular to find the row echelon form and pivots for each\n",
        "print(\"--- Matrix X ---\")\n",
        "GE_rectangular(X, True)\n",
        "print(\"\\n--- Matrix Y ---\")\n",
        "GE_rectangular(Y, True)\n",
        "print(\"\\n--- Matrix Z ---\")\n",
        "R_Z, pvt_Z = GE_rectangular(Z, True)"
      ]
    },
    {
      "cell_type": "code",
      "execution_count": 20,
      "metadata": {
        "colab": {
          "base_uri": "https://localhost:8080/",
          "height": 0
        },
        "id": "qYyRwHEwBUrh",
        "outputId": "a9aae194-edb2-49c7-9412-720036fdfb4a"
      },
      "outputs": [
        {
          "name": "stdout",
          "output_type": "stream",
          "text": [
            "Rank of X (NumPy): 1\n",
            "Rank of Y (NumPy): 2\n",
            "Rank of Z (NumPy): 3\n"
          ]
        }
      ],
      "source": [
        "from numpy.linalg import matrix_rank\n",
        "\n",
        "# Validate the ranks using numpy's built-in function\n",
        "r_X = matrix_rank(X)\n",
        "r_Y = matrix_rank(Y)\n",
        "r_Z = matrix_rank(Z)\n",
        "\n",
        "print(f\"Rank of X (NumPy): {r_X}\")\n",
        "print(f\"Rank of Y (NumPy): {r_Y}\")\n",
        "print(f\"Rank of Z (NumPy): {r_Z}\")"
      ]
    }
  ],
  "metadata": {
    "colab": {
      "provenance": []
    },
    "kernelspec": {
      "display_name": "ml",
      "language": "python",
      "name": "python3"
    },
    "language_info": {
      "codemirror_mode": {
        "name": "ipython",
        "version": 3
      },
      "file_extension": ".py",
      "mimetype": "text/x-python",
      "name": "python",
      "nbconvert_exporter": "python",
      "pygments_lexer": "ipython3",
      "version": "3.12.11"
    }
  },
  "nbformat": 4,
  "nbformat_minor": 0
}
