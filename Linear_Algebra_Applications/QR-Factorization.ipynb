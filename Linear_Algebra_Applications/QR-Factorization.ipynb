{
  "cells": [
    {
      "cell_type": "markdown",
      "metadata": {
        "id": "M6Pt6UwfIlYR"
      },
      "source": [
        "# QR Factorization**"
      ]
    },
    {
      "cell_type": "markdown",
      "metadata": {
        "id": "DyUGs7NPJLKT"
      },
      "source": [
        "**Orthogonality**"
      ]
    },
    {
      "cell_type": "code",
      "execution_count": 1,
      "metadata": {
        "colab": {
          "base_uri": "https://localhost:8080/"
        },
        "id": "L8ExzLmuJWfw",
        "outputId": "9b784616-9c28-4c50-cb46-616f46c7e803"
      },
      "outputs": [
        {
          "name": "stdout",
          "output_type": "stream",
          "text": [
            "Numerically check the B_1 is orthogonal to B_2\n",
            "Norm of (B_2 @ B_1.T): 0.0\n",
            "Product of norms: 11.739356881873896\n",
            "0.0\n"
          ]
        }
      ],
      "source": [
        "import numpy as np\n",
        "\n",
        "# Define the matrix R\n",
        "R = np.array([[1, 0, -2], [0, 1, 2.5], [0, 0, 0]], dtype=np.float64)\n",
        "\n",
        "# B_1's rows form a basis for the Row Space of R\n",
        "B_1 = np.array([[1,0,-2],[0,1,2.5]]) \n",
        "# B_2's rows form a basis for the Nullspace of R\n",
        "B_2 = np.array([[2, -2.5, 1],[0,0,0]]) \n",
        "\n",
        "def orth_check(B_1, B_2):\n",
        "  \"\"\"\n",
        "  Checks if the subspaces spanned by the rows of B_1 and B_2 are orthogonal.\n",
        "  It does this by computing B_2 * B_1.T. If the spaces are orthogonal, \n",
        "  this product should be a zero matrix.\n",
        "  \"\"\"\n",
        "  # Calculate the Frobenius norm of the dot product (should be 0)\n",
        "  numerator = np.linalg.norm(np.dot(B_2, B_1.T), 'fro')\n",
        "  print(f\"Norm of (B_2 @ B_1.T): {numerator}\")\n",
        "  \n",
        "  # Calculate the product of the individual norms for scaling\n",
        "  denomerator =  np.linalg.norm(B_1, 'fro') * np.linalg.norm(B_2, 'fro')\n",
        "  print(f\"Product of norms: {denomerator}\")\n",
        "\n",
        "  # The result is a normalized measure of orthogonality (0 = orthogonal)\n",
        "  res = numerator / denomerator\n",
        "  return res\n",
        "\n",
        "print('Numerically check the B_1 is orthogonal to B_2')\n",
        "# The result should be 0.0, confirming the row space and nullspace are orthogonal.\n",
        "print(orth_check(B_1, B_2))"
      ]
    },
    {
      "cell_type": "markdown",
      "metadata": {
        "id": "mK-2azC1PwpI"
      },
      "source": [
        "**Projection**"
      ]
    },
    {
      "cell_type": "code",
      "execution_count": 2,
      "metadata": {
        "colab": {
          "base_uri": "https://localhost:8080/",
          "height": 449
        },
        "id": "CJpan8AFP1xZ",
        "outputId": "91e73f42-b7ac-4791-ec10-a9c13273dd16"
      },
      "outputs": [
        {
          "data": {
            "image/png": "[encoded data removed]",
            "text/plain": [
              "<Figure size 640x480 with 1 Axes>"
            ]
          },
          "metadata": {},
          "output_type": "display_data"
        },
        {
          "name": "stdout",
          "output_type": "stream",
          "text": [
            "Check projection error orthogonal to w \n",
            "[[0.]]\n"
          ]
        }
      ],
      "source": [
        "# v is the vector to be projected\n",
        "v = np.array([[6], [8], [7]], dtype=np.float64)\n",
        "# w is the vector we are projecting onto\n",
        "w = np.array([[3], [4], [0]], dtype=np.float64)\n",
        "\n",
        "def proj_vector(w, v):\n",
        "  \"\"\"\n",
        "  Calculates the projection of vector v onto vector w.\n",
        "  \"\"\"\n",
        "  # Calculate the projection matrix: P_w = (w * w.T) / (w.T * w)\n",
        "  # np.linalg.norm(w)**2 is equivalent to w.T @ w (dot product)\n",
        "  P_w = np.dot(w, w.T) / (np.linalg.norm(w)*np.linalg.norm(w))\n",
        "  \n",
        "  # Calculate the projection vector: p = P_w * v\n",
        "  p = P_w @ v \n",
        "  return p\n",
        "\n",
        "# Calculate the projection\n",
        "p_1 = proj_vector(w, v)\n",
        "\n",
        "import matplotlib.pyplot as plt\n",
        "\n",
        "def plot_3D_vec(w, v, p):\n",
        "  \"\"\"\n",
        "  Helper function to visualize the vectors in 3D.\n",
        "  \"\"\"\n",
        "  fig = plt.figure()\n",
        "  ax = plt.axes(projection='3d')\n",
        "\n",
        "  # Set plot limits\n",
        "  ax.set_xlim(-1, 15)\n",
        "  ax.set_ylim(-1, 20)\n",
        "  ax.set_zlim(-1, 8)\n",
        "\n",
        "  O = [0, 0, 0] # Origin\n",
        "  # Draw vector w (black)\n",
        "  ax.quiver(O[0], O[1], O[2], w[0], w[1], w[2], label='w', color = 'black')\n",
        "  # Draw vector v (blue)\n",
        "  ax.quiver(O[0], O[1], O[2], v[0], v[1], v[2], label='v', color = 'blue')\n",
        "  # Draw the projection p (red)\n",
        "  ax.quiver(O[0], O[1], O[2], p[0], p[1], p[2], label='p', color = 'red')\n",
        "  # Draw the error vector (v - p) (green), which should be orthogonal to w\n",
        "  ax.quiver(p[0], p[1], p[2], v[0]-p[0], v[1]-p[1], v[2]-p[2], label='error', color= 'green')\n",
        "  \n",
        "  ax.view_init(0, 0) # Set a specific viewing angle\n",
        "  plt.legend()\n",
        "  plt.show()\n",
        "\n",
        "# Plot the vectors\n",
        "plot_3D_vec(w, v, p_1)\n",
        "\n",
        "#### check the crucial property of the projection #####################\n",
        "# The error vector (v - p) must be orthogonal to the vector w.\n",
        "# We check this by computing their dot product, which should be 0.\n",
        "def check_proj_vec(w, v, p):\n",
        "  \"\"\"\n",
        "  Numerically checks if the error vector (v - p) is orthogonal to w.\n",
        "  \"\"\"\n",
        "  # Calculate the dot product w.T @ (v - p).\n",
        "  # The result should be very close to zero.\n",
        "  res = np.dot(w.T, v - p)\n",
        "  return res\n",
        "\n",
        "print(\"Check projection error orthogonal to w \")\n",
        "print(check_proj_vec(w, v, p_1))"
      ]
    },
    {
      "cell_type": "code",
      "execution_count": 3,
      "metadata": {
        "colab": {
          "base_uri": "https://localhost:8080/"
        },
        "id": "J3wgwZuFenWt",
        "outputId": "acd8dc07-1702-4a2c-d06d-c6a5cb864728"
      },
      "outputs": [
        {
          "name": "stdout",
          "output_type": "stream",
          "text": [
            "Check projection error orthogonal to Col(A) \n",
            "4.957922606020533e-17\n"
          ]
        }
      ],
      "source": [
        "# A is the matrix whose column space we will project onto\n",
        "A = np.array([[1, 0], [2, 1], [0, 1]], dtype=np.float64)\n",
        "\n",
        "def proj_matrix(A, v):\n",
        "  \"\"\"\n",
        "  Calculates the projection of vector v onto the column space of matrix A.\n",
        "  \"\"\"\n",
        "  # Calculate the projection matrix: P_A = A * (A.T * A)^-1 * A.T\n",
        "  P_A = A @ np.linalg.inv(A.T @ A) @ A.T\n",
        "  # Calculate the projection vector: p = P_A * v\n",
        "  p = P_A @ v \n",
        "  return p\n",
        "\n",
        "# Calculate the projection\n",
        "p_2 = proj_matrix(A, v)\n",
        "\n",
        "#### check the crucial property of the projection #####################\n",
        "# The error vector (v - p) must be orthogonal to the column space of A.\n",
        "# This is true if A.T @ (v - p) is a zero vector.\n",
        "def check_proj_matrix(A, v, p):\n",
        "  \"\"\"\n",
        "  Numerically checks if the error (v-p) is orthogonal to col(A).\n",
        "  \"\"\"\n",
        "  # Calculate the norm of A.T @ (v - p). This should be close to 0.\n",
        "  numerator = np.linalg.norm(np.dot(A.T, v - p))\n",
        "  # Normalize by the other norms for a stable numerical check\n",
        "  denomerator = np.linalg.norm(A, 'fro') * np.linalg.norm(v)\n",
        "  return numerator / denomerator\n",
        "\n",
        "print(\"Check projection error orthogonal to Col(A) \")\n",
        "print(check_proj_matrix(A, v, p_2))"
      ]
    },
    {
      "cell_type": "markdown",
      "metadata": {
        "id": "EvFeLD3rlQ4s"
      },
      "source": [
        "**QR factorization for matrix with independent columns**"
      ]
    },
    {
      "cell_type": "code",
      "execution_count": 4,
      "metadata": {
        "colab": {
          "base_uri": "https://localhost:8080/"
        },
        "id": "KXEEfjSZlcFr",
        "outputId": "740e4abe-0e65-42a1-919b-c2f535ace4ea"
      },
      "outputs": [
        {
          "name": "stdout",
          "output_type": "stream",
          "text": [
            "QR Factorization of A:\n",
            "Q:\n",
            "[[ 0.70710678  0.57735027 -0.40824829]\n",
            " [ 0.          0.57735027  0.81649658]\n",
            " [ 0.70710678 -0.57735027  0.40824829]]\n",
            "\n",
            "R:\n",
            "[[1.41421356e+00 1.41421356e+00 7.07106781e-01]\n",
            " [0.00000000e+00 1.73205081e+00 2.22044605e-16]\n",
            " [0.00000000e+00 0.00000000e+00 1.22474487e+00]]\n"
          ]
        }
      ],
      "source": [
        "# Define the matrix A to be factored\n",
        "A = np.array([[1, 2, 0], [0, 1, 1], [1, 0, 1]], dtype=np.float64)\n",
        "\n",
        "def QR(A):\n",
        "  \"\"\"\n",
        "  Performs QR factorization on matrix A using the \n",
        "  modified Gram-Schmidt algorithm.\n",
        "  A = QR, where Q has orthonormal columns and R is upper triangular.\n",
        "  \"\"\"\n",
        "  m, n = A.shape\n",
        "  Q = np.zeros((m, n))\n",
        "  R = np.zeros((n, n))\n",
        "\n",
        "  # Iterate through each column i of A\n",
        "  for i in range(n):\n",
        "      # Start with the i-th column of A\n",
        "      v = A[:, i].copy() # Use .copy() to avoid modifying A\n",
        "\n",
        "      # Subtract projections onto previous orthogonal vectors (columns of Q)\n",
        "      for k in range(i):\n",
        "          # R[k, i] is the coefficient of projection of A[:,i] onto Q[:,k]\n",
        "          R[k, i] = np.dot(Q[:, k], A[:, i]) \n",
        "          # Subtract the projection from v\n",
        "          v = v - R[k, i] * Q[:, k]\n",
        "      \n",
        "      # Now, v is orthogonal to all previous Q columns.\n",
        "      # Normalize v. The norm is the diagonal element R[i, i].\n",
        "      R[i, i] = np.linalg.norm(v)\n",
        "      # The i-th orthonormal vector is v / norm(v)\n",
        "      Q[:, i] = v / R[i, i]\n",
        "\n",
        "  return Q, R\n",
        "\n",
        "Q, R = QR(A)\n",
        "\n",
        "print(\"QR Factorization of A:\")\n",
        "print(\"Q:\")\n",
        "print(Q)\n",
        "print(\"\\nR:\")\n",
        "print(R)"
      ]
    },
    {
      "cell_type": "code",
      "execution_count": 5,
      "metadata": {
        "colab": {
          "base_uri": "https://localhost:8080/"
        },
        "id": "OfGAgxmdnCl2",
        "outputId": "1d4c6f61-b578-43d8-c2df-f4a657b5336a"
      },
      "outputs": [
        {
          "name": "stdout",
          "output_type": "stream",
          "text": [
            "QR Factorization of B:\n",
            "Q_1:\n",
            "[[ 0.30110946  0.46074898 -0.09409473  0.24498921]\n",
            " [ 0.63726483  0.0433632  -0.55860084  0.25120018]\n",
            " [ 0.44768795 -0.05049669  0.51979706 -0.41105066]\n",
            " [-0.18688909 -0.36541282 -0.61795518 -0.48979285]\n",
            " [ 0.18099494 -0.79362948  0.16394286  0.49211145]\n",
            " [-0.48488703  0.14108795 -0.01328287  0.47523194]]\n",
            "\n",
            "R_1:\n",
            "[[ 1.6236421  -2.02106819  0.64872948 -0.42029906]\n",
            " [ 0.          3.24896812  0.72038807  0.4347103 ]\n",
            " [ 0.          0.          2.14747048 -0.6711592 ]\n",
            " [ 0.          0.          0.          0.74418848]]\n"
          ]
        }
      ],
      "source": [
        "# Define a second, larger matrix B\n",
        "B = np.array([[0.488894, 0.888396, 0.325191, 0.319207],\n",
        "              [1.03469, -1.14707, -0.754928, 0.312859],\n",
        "              [0.726885, -1.06887, 1.3703, -0.86488],\n",
        "              [-0.303441, -0.809499, -1.71152, -0.0300513],\n",
        "              [0.293871, -2.94428, -0.102242, -0.164879],\n",
        "              [-0.787283, 1.43838, -0.241447, 0.627707]], dtype=np.float64)\n",
        "\n",
        "# Factorize B\n",
        "Q_1, R_1 = QR(B)\n",
        "\n",
        "\n",
        "print(\"QR Factorization of B:\")\n",
        "print(\"Q_1:\")\n",
        "# Q_1 should have orthonormal columns, meaning Q_1.T @ Q_1 is the identity matrix\n",
        "print(Q_1) \n",
        "print(\"\\nR_1:\")\n",
        "# R_1 should be an upper-triangular matrix\n",
        "print(R_1)"
      ]
    }
  ],
  "metadata": {
    "colab": {
      "provenance": []
    },
    "kernelspec": {
      "display_name": "ml",
      "language": "python",
      "name": "python3"
    },
    "language_info": {
      "codemirror_mode": {
        "name": "ipython",
        "version": 3
      },
      "file_extension": ".py",
      "mimetype": "text/x-python",
      "name": "python",
      "nbconvert_exporter": "python",
      "pygments_lexer": "ipython3",
      "version": "3.12.11"
    }
  },
  "nbformat": 4,
  "nbformat_minor": 0
}
