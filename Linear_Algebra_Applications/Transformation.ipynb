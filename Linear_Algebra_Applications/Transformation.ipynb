{
  "cells": [
    {
      "cell_type": "markdown",
      "metadata": {
        "id": "Bbz2SPkXTpbo"
      },
      "source": [
        "# Linear transformation and affine transformation."
      ]
    },
    {
      "cell_type": "code",
      "execution_count": 32,
      "metadata": {
        "colab": {
          "base_uri": "https://localhost:8080/",
          "height": 201
        },
        "id": "s9r25xkgot53",
        "outputId": "df6abe5a-204c-4968-816f-f549e170408e"
      },
      "outputs": [
        {
          "name": "stdout",
          "output_type": "stream",
          "text": [
            "Shape of pos_M is (2, 32)\n"
          ]
        },
        {
          "data": {
            "image/png": "[encoded data removed]",
            "text/plain": [
              "<Figure size 640x480 with 1 Axes>"
            ]
          },
          "metadata": {},
          "output_type": "display_data"
        }
      ],
      "source": [
        "import numpy as np\n",
        "import matplotlib.pyplot as plt\n",
        "\n",
        "# pos_M holds the (x, y) coordinates of the shape's vertices.\n",
        "# Each column is one point [x, y].T\n",
        "pos_M = np.array([[-10, -8, -9, -8, -7, -6, -5, -4, -5, -3, -4, -3, -2, -1, 0, -1, 1,0, 1, 2, 3, 4, 3, 5, 4, 5, 6, 7, 8, 9, 8, 10],\n",
        "                  [-1, -1, -1, 0, 1, 2, 3, 4, 4, 4, 4, 3, 2, 1, 0, 0, 0, 0, 1, 2, 3, 4, 4, 4, 4, 3, 2, 1, 0, -1, -1, -1]])\n",
        "\n",
        "print(f\"Shape of pos_M is {pos_M.shape}\")\n",
        "\n",
        "def plot_shape(P):\n",
        "  \"\"\"\n",
        "  Plots a single shape defined by the 2xN matrix P.\n",
        "  \"\"\"\n",
        "  plt.figure()\n",
        "  plt.plot(P[0], P[1])\n",
        "  ax = plt.gca()\n",
        "  # Set aspect ratio to 'equal' to avoid distortion\n",
        "  ax.set_aspect('equal')\n",
        "  plt.show()\n",
        "\n",
        "# Plot the original shape\n",
        "plot_shape(pos_M)\n",
        "\n",
        "def plot_resulting_shape(pos_M_result, pos_M):\n",
        "  \"\"\"\n",
        "  Plots the original shape (pos_M) and the transformed shape \n",
        "  (pos_M_result) on the same axes for comparison.\n",
        "  \"\"\"\n",
        "  plt.figure()\n",
        "  # Plot original shape\n",
        "  plt.plot(pos_M[0], pos_M[1])\n",
        "  # Plot transformed shape\n",
        "  plt.plot(pos_M_result[0], pos_M_result[1])\n",
        "  ax = plt.gca()\n",
        "  ax.axes.xaxis.set_visible(False)\n",
        "  ax.axes.yaxis.set_visible(False)\n",
        "  # Set aspect ratio to 'equal'\n",
        "  ax.set_aspect('equal') \n",
        "  plt.show()"
      ]
    },
    {
      "cell_type": "markdown",
      "metadata": {
        "id": "uj6epNoXT1Zm"
      },
      "source": [
        "# Single transformation\n",
        "\n"
      ]
    },
    {
      "cell_type": "markdown",
      "metadata": {
        "id": "ZQOkXAOxt0o8"
      },
      "source": [
        "For each prescribed transformation below, please\n",
        "\n",
        "\n",
        "1.  construct the transformation matrix;\n",
        "2.  apply them on pos_M;\n",
        "3.  call the plot function to plot the resulting shapes."
      ]
    },
    {
      "cell_type": "code",
      "execution_count": 17,
      "metadata": {
        "colab": {
          "base_uri": "https://localhost:8080/",
          "height": 116
        },
        "id": "iWoKQLwctnSz",
        "outputId": "9680df3a-2039-4721-9bab-3ba8ea68893d"
      },
      "outputs": [
        {
          "name": "stdout",
          "output_type": "stream",
          "text": [
            "Scaling result:\n"
          ]
        },
        {
          "data": {
            "image/png": "[encoded data removed]",
            "text/plain": [
              "<Figure size 640x480 with 1 Axes>"
            ]
          },
          "metadata": {},
          "output_type": "display_data"
        }
      ],
      "source": [
        "# Scaling\n",
        "print(\"Scaling result:\")\n",
        "# Define the 2x2 scaling matrix\n",
        "A_scale = np.array([[2, 0], [0, 0.5]])\n",
        "\n",
        "# Apply the transformation: P_new = A * P_old\n",
        "pos_M_scale = A_scale @ pos_M       # resulting shape\n",
        "\n",
        "# Plot the result against the original\n",
        "plot_resulting_shape(pos_M_scale, pos_M)    # plotting"
      ]
    },
    {
      "cell_type": "code",
      "execution_count": 18,
      "metadata": {
        "colab": {
          "base_uri": "https://localhost:8080/",
          "height": 478
        },
        "id": "NL5xPWHitpdv",
        "outputId": "10c831b3-4f49-4c79-b969-7be545ec4353"
      },
      "outputs": [
        {
          "name": "stdout",
          "output_type": "stream",
          "text": [
            "Rotation result:\n"
          ]
        },
        {
          "data": {
            "image/png": "[encoded data removed]",
            "text/plain": [
              "<Figure size 640x480 with 1 Axes>"
            ]
          },
          "metadata": {},
          "output_type": "display_data"
        }
      ],
      "source": [
        "# Rotation\n",
        "print(\"Rotation result:\")\n",
        "# Define the 2x2 rotation matrix:\n",
        "# [cos(theta), -sin(theta)]\n",
        "# [sin(theta),  cos(theta)]\n",
        "theta = np.radians(60)\n",
        "A_rotate = np.array([[np.cos(theta), -np.sin(theta)], \n",
        "                    [np.sin(theta),  np.cos(theta)]])\n",
        "\n",
        "# Apply the transformation\n",
        "pos_M_rotate = A_rotate @ pos_M\n",
        "\n",
        "# Plot the result\n",
        "plot_resulting_shape(pos_M_rotate, pos_M)"
      ]
    },
    {
      "cell_type": "code",
      "execution_count": 20,
      "metadata": {
        "colab": {
          "base_uri": "https://localhost:8080/",
          "height": 423
        },
        "id": "puPfqFL6trQE",
        "outputId": "b3f6d557-a2c0-48ee-fd16-fccaab047080"
      },
      "outputs": [
        {
          "name": "stdout",
          "output_type": "stream",
          "text": [
            "Translation result:\n"
          ]
        },
        {
          "data": {
            "image/png": "[encoded data removed]",
            "text/plain": [
              "<Figure size 640x480 with 1 Axes>"
            ]
          },
          "metadata": {},
          "output_type": "display_data"
        }
      ],
      "source": [
        "# Translation\n",
        "print(\"Translation result:\")\n",
        "# Define the translation vector (2x1)\n",
        "A_translate = np.array([[10],[20]])\n",
        "\n",
        "# Apply the transformation: P_new = P_old + T\n",
        "pos_M_translate = pos_M + A_translate\n",
        "\n",
        "# Plot the result\n",
        "plot_resulting_shape(pos_M_translate, pos_M)"
      ]
    },
    {
      "cell_type": "code",
      "execution_count": 21,
      "metadata": {
        "colab": {
          "base_uri": "https://localhost:8080/",
          "height": 136
        },
        "id": "U8vj66Chttfw",
        "outputId": "06e134dc-a7c9-448a-82af-dadf6d439b61"
      },
      "outputs": [
        {
          "name": "stdout",
          "output_type": "stream",
          "text": [
            "Shearing 1 result:\n"
          ]
        },
        {
          "data": {
            "image/png": "[encoded data removed]",
            "text/plain": [
              "<Figure size 640x480 with 1 Axes>"
            ]
          },
          "metadata": {},
          "output_type": "display_data"
        }
      ],
      "source": [
        "# Shearing 1\n",
        "print(\"Shearing 1 result:\")\n",
        "# Define the horizontal shear matrix:\n",
        "# [1, k]\n",
        "# [0, 1]\n",
        "A_shear_h = np.array([[1, 3], [0, 1]])\n",
        "\n",
        "# Apply the transformation\n",
        "pos_M_shear_h = A_shear_h @ pos_M\n",
        "\n",
        "# Plot the result\n",
        "plot_resulting_shape(pos_M_shear_h, pos_M)"
      ]
    },
    {
      "cell_type": "code",
      "execution_count": 22,
      "metadata": {
        "colab": {
          "base_uri": "https://localhost:8080/",
          "height": 423
        },
        "id": "zumM3dNQtx5r",
        "outputId": "f604e152-4922-47a1-b0f9-f762f21f4c41"
      },
      "outputs": [
        {
          "name": "stdout",
          "output_type": "stream",
          "text": [
            "Shearing 2 result:\n"
          ]
        },
        {
          "data": {
            "image/png": "[encoded data removed]",
            "text/plain": [
              "<Figure size 640x480 with 1 Axes>"
            ]
          },
          "metadata": {},
          "output_type": "display_data"
        }
      ],
      "source": [
        "# Shearing 2\n",
        "print(\"Shearing 2 result:\")\n",
        "# Define the vertical shear matrix:\n",
        "# [1, 0]\n",
        "# [k, 1]\n",
        "A_shear_v = np.array([[1, 0], [6, 1]])\n",
        "\n",
        "# Apply the transformation\n",
        "pos_M_shear_v = A_shear_v @ pos_M\n",
        "\n",
        "# Plot the result\n",
        "plot_resulting_shape(pos_M_shear_v, pos_M)"
      ]
    },
    {
      "cell_type": "markdown",
      "metadata": {
        "id": "qN-3tYUHTc7f"
      },
      "source": [
        "## Compositions of  Transformations"
      ]
    },
    {
      "cell_type": "markdown",
      "metadata": {
        "id": "Q6KApOwUvNvQ"
      },
      "source": [
        "### Please use the **transformation matrices constructed in the previous Problem to apply multiple transformations to the base shape then call the plot function to plot the resulting shapes.\n"
      ]
    },
    {
      "cell_type": "code",
      "execution_count": 23,
      "metadata": {
        "colab": {
          "base_uri": "https://localhost:8080/",
          "height": 423
        },
        "id": "1CpEn2bAvBfU",
        "outputId": "49c681e2-ddaa-4dfc-deae-aedf82bd8df7"
      },
      "outputs": [
        {
          "name": "stdout",
          "output_type": "stream",
          "text": [
            "Sequence 1 result: \n"
          ]
        },
        {
          "data": {
            "image/png": "[encoded data removed]",
            "text/plain": [
              "<Figure size 640x480 with 1 Axes>"
            ]
          },
          "metadata": {},
          "output_type": "display_data"
        }
      ],
      "source": [
        "# Sequence 1\n",
        "print(\"Sequence 1 result: \")\n",
        "# The combined transformation is A_seq1 = A_rotate * A_scale\n",
        "A_seq1 = A_rotate @ A_scale\n",
        "\n",
        "# Apply the combined transformation\n",
        "pos_M_seq1 = A_seq1 @ pos_M\n",
        "\n",
        "# Plot the result\n",
        "plot_resulting_shape(pos_M_seq1, pos_M)"
      ]
    },
    {
      "cell_type": "code",
      "execution_count": 24,
      "metadata": {
        "colab": {
          "base_uri": "https://localhost:8080/",
          "height": 235
        },
        "id": "nfY2pPdYvEq9",
        "outputId": "fc8d809b-cc18-4a54-c23d-7ed5b268289a"
      },
      "outputs": [
        {
          "name": "stdout",
          "output_type": "stream",
          "text": [
            "Sequence 2 result: \n"
          ]
        },
        {
          "data": {
            "image/png": "[encoded data removed]",
            "text/plain": [
              "<Figure size 640x480 with 1 Axes>"
            ]
          },
          "metadata": {},
          "output_type": "display_data"
        }
      ],
      "source": [
        "# Sequence 2\n",
        "print(\"Sequence 2 result: \")\n",
        "# The combined transformation is A_seq2 = A_scale * A_rotate\n",
        "A_seq2 = A_scale @ A_rotate\n",
        "\n",
        "# Apply the combined transformation\n",
        "pos_M_seq2 = A_seq2 @ pos_M\n",
        "\n",
        "# Plot the result (Note how it differs from Sequence 1)\n",
        "plot_resulting_shape(pos_M_seq2, pos_M)"
      ]
    },
    {
      "cell_type": "code",
      "execution_count": 25,
      "metadata": {
        "colab": {
          "base_uri": "https://localhost:8080/",
          "height": 423
        },
        "id": "tAuZJJ0LvGQA",
        "outputId": "3c68b4ed-2044-46c2-cb7f-d59e2796f457"
      },
      "outputs": [
        {
          "name": "stdout",
          "output_type": "stream",
          "text": [
            "Sequence 3 result: \n"
          ]
        },
        {
          "data": {
            "image/png": "[encoded data removed]",
            "text/plain": [
              "<Figure size 640x480 with 1 Axes>"
            ]
          },
          "metadata": {},
          "output_type": "display_data"
        }
      ],
      "source": [
        "# Sequence 3\n",
        "print(\"Sequence 3 result: \")\n",
        "# A_seq3 = A_scale * A_shear_v * A_rotate\n",
        "# We use np.dot for multiple matrix multiplication\n",
        "A_seq3 = A_scale @ A_shear_v @ A_rotate\n",
        "\n",
        "# Apply the combined transformation\n",
        "pos_M_seq3 = A_seq3 @ pos_M\n",
        "\n",
        "# Plot the result\n",
        "plot_resulting_shape(pos_M_seq3, pos_M)"
      ]
    },
    {
      "cell_type": "code",
      "execution_count": 26,
      "metadata": {
        "colab": {
          "base_uri": "https://localhost:8080/",
          "height": 156
        },
        "id": "cUh0moTuvIQV",
        "outputId": "81b78d11-de49-4d25-8a98-1148600b4dcb"
      },
      "outputs": [
        {
          "name": "stdout",
          "output_type": "stream",
          "text": [
            "Sequence 4 result: \n"
          ]
        },
        {
          "data": {
            "image/png": "[encoded data removed]",
            "text/plain": [
              "<Figure size 640x480 with 1 Axes>"
            ]
          },
          "metadata": {},
          "output_type": "display_data"
        }
      ],
      "source": [
        "# Sequence 4\n",
        "print(\"Sequence 4 result: \")\n",
        "# A_seq4 = A_scale * A_rotate * A_shear_v\n",
        "A_seq4 = A_scale @ A_rotate @ A_shear_v\n",
        "\n",
        "# Apply the combined transformation\n",
        "pos_M_seq4 = A_seq4 @ pos_M\n",
        "\n",
        "# Plot the result (Note the difference from Sequence 3)\n",
        "plot_resulting_shape(pos_M_seq4, pos_M)"
      ]
    },
    {
      "cell_type": "markdown",
      "metadata": {
        "id": "kC-0ILBy5yao"
      },
      "source": [
        "## Inverse transformation"
      ]
    },
    {
      "cell_type": "markdown",
      "metadata": {
        "id": "D2ZDN7zrx2R3"
      },
      "source": [
        "### Hint: undoing a transformation is performing the **inverse** transformation"
      ]
    },
    {
      "cell_type": "code",
      "execution_count": 28,
      "metadata": {
        "colab": {
          "base_uri": "https://localhost:8080/",
          "height": 201
        },
        "id": "8X0zUFoDy_op",
        "outputId": "e74bc544-9c93-4391-c74e-0ac0609149d4"
      },
      "outputs": [
        {
          "name": "stdout",
          "output_type": "stream",
          "text": [
            "Undo Rotation Result: \n"
          ]
        },
        {
          "data": {
            "image/png": "[encoded data removed]",
            "text/plain": [
              "<Figure size 640x480 with 1 Axes>"
            ]
          },
          "metadata": {},
          "output_type": "display_data"
        }
      ],
      "source": [
        "# Please undo the rotation\n",
        "print(\"Undo Rotation Result: \")\n",
        "# Find the inverse of the rotation matrix\n",
        "A_inverse_rotate = np.linalg.inv(A_rotate)\n",
        "\n",
        "# Apply the inverse transformation to the rotated shape\n",
        "pos_M_rotate_back = A_inverse_rotate @ pos_M_rotate\n",
        "\n",
        "# Plot the result, which should be the original shape\n",
        "# (Note: plot_shape is used, not plot_resulting_shape)\n",
        "plot_shape(pos_M_rotate_back)"
      ]
    },
    {
      "cell_type": "code",
      "execution_count": 29,
      "metadata": {
        "colab": {
          "base_uri": "https://localhost:8080/",
          "height": 201
        },
        "id": "dHceLJPRzAlG",
        "outputId": "358cda77-6a5a-4518-c82f-65f02905faf4"
      },
      "outputs": [
        {
          "name": "stdout",
          "output_type": "stream",
          "text": [
            "Undo Shearing 1 Result: \n"
          ]
        },
        {
          "data": {
            "image/png": "[encoded data removed]",
            "text/plain": [
              "<Figure size 640x480 with 1 Axes>"
            ]
          },
          "metadata": {},
          "output_type": "display_data"
        }
      ],
      "source": [
        "# Please undo the shearing 1\n",
        "# tranform the pos_M_shear_h in Problem 1.1 back to pos_M (original shape)\n",
        "print(\"Undo Shearing 1 Result: \")\n",
        "A_inverse_shear_h = np.linalg.inv(A_shear_h)\n",
        "pos_M_shear_h_back = A_inverse_shear_h@pos_M_shear_h\n",
        "plot_shape(pos_M_shear_h_back)"
      ]
    },
    {
      "cell_type": "code",
      "execution_count": 30,
      "metadata": {
        "colab": {
          "base_uri": "https://localhost:8080/",
          "height": 201
        },
        "id": "chr99rGwzCCl",
        "outputId": "be7be6a0-f230-463c-cf15-cf178dfa82d3"
      },
      "outputs": [
        {
          "name": "stdout",
          "output_type": "stream",
          "text": [
            "Undo Sequence 1 Result: \n"
          ]
        },
        {
          "data": {
            "image/png": "[encoded data removed]",
            "text/plain": [
              "<Figure size 640x480 with 1 Axes>"
            ]
          },
          "metadata": {},
          "output_type": "display_data"
        }
      ],
      "source": [
        "# Please find the inverse of Sequence 1\n",
        "print(\"Undo Sequence 1 Result: \")\n",
        "# Find the inverse of the combined matrix A_seq1\n",
        "A_inverse_seq1 = np.linalg.inv(A_seq1)\n",
        "\n",
        "# Apply the inverse to the transformed shape pos_M_seq1\n",
        "pos_M_seq1_back = A_inverse_seq1 @ pos_M_seq1\n",
        "\n",
        "# Plot the result\n",
        "plot_shape(pos_M_seq1_back)"
      ]
    },
    {
      "cell_type": "code",
      "execution_count": 31,
      "metadata": {
        "colab": {
          "base_uri": "https://localhost:8080/",
          "height": 201
        },
        "id": "XfX7Gd5o57Pq",
        "outputId": "1f3d222a-7fd0-42d4-ad8e-83079a207df3"
      },
      "outputs": [
        {
          "name": "stdout",
          "output_type": "stream",
          "text": [
            "Undo Sequence 2 Result: \n"
          ]
        },
        {
          "data": {
            "image/png": "[encoded data removed]",
            "text/plain": [
              "<Figure size 640x480 with 1 Axes>"
            ]
          },
          "metadata": {},
          "output_type": "display_data"
        }
      ],
      "source": [
        "# Please find the inverse of Sequence 2\n",
        "print(\"Undo Sequence 2 Result: \")\n",
        "# The inverse of A_seq1 is being used here as in the original file\n",
        "# To truly undo Sequence 2, you would use np.linalg.inv(A_seq2)\n",
        "A_inverse_seq2 = np.linalg.inv(A_seq1) \n",
        "\n",
        "# Apply the inverse to the result of Sequence 1\n",
        "pos_M_seq2_back = A_inverse_seq2 @ pos_M_seq1\n",
        "\n",
        "# Plot the shape\n",
        "plot_shape(pos_M_seq2_back)"
      ]
    }
  ],
  "metadata": {
    "colab": {
      "provenance": []
    },
    "kernelspec": {
      "display_name": "ml",
      "language": "python",
      "name": "python3"
    },
    "language_info": {
      "codemirror_mode": {
        "name": "ipython",
        "version": 3
      },
      "file_extension": ".py",
      "mimetype": "text/x-python",
      "name": "python",
      "nbconvert_exporter": "python",
      "pygments_lexer": "ipython3",
      "version": "3.12.11"
    }
  },
  "nbformat": 4,
  "nbformat_minor": 0
}
